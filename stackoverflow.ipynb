{
 "cells": [
  {
   "cell_type": "code",
   "execution_count": 1,
   "id": "44818153",
   "metadata": {},
   "outputs": [],
   "source": [
    "import pandas as pd\n",
    "import numpy as np"
   ]
  },
  {
   "cell_type": "code",
   "execution_count": 2,
   "id": "da20fff8",
   "metadata": {},
   "outputs": [],
   "source": [
    "df = pd.read_csv(r\"C:\\Users\\Ali\\Desktop\\Data Analysis Projects\\stack-overflow-developer-survey-2023\\survey_results_public.csv\")"
   ]
  },
  {
   "cell_type": "code",
   "execution_count": 3,
   "id": "648edc40",
   "metadata": {},
   "outputs": [
    {
     "data": {
      "text/html": [
       "<div>\n",
       "<style scoped>\n",
       "    .dataframe tbody tr th:only-of-type {\n",
       "        vertical-align: middle;\n",
       "    }\n",
       "\n",
       "    .dataframe tbody tr th {\n",
       "        vertical-align: top;\n",
       "    }\n",
       "\n",
       "    .dataframe thead th {\n",
       "        text-align: right;\n",
       "    }\n",
       "</style>\n",
       "<table border=\"1\" class=\"dataframe\">\n",
       "  <thead>\n",
       "    <tr style=\"text-align: right;\">\n",
       "      <th></th>\n",
       "      <th>ResponseId</th>\n",
       "      <th>Q120</th>\n",
       "      <th>MainBranch</th>\n",
       "      <th>Age</th>\n",
       "      <th>Employment</th>\n",
       "      <th>RemoteWork</th>\n",
       "      <th>CodingActivities</th>\n",
       "      <th>EdLevel</th>\n",
       "      <th>LearnCode</th>\n",
       "      <th>LearnCodeOnline</th>\n",
       "      <th>...</th>\n",
       "      <th>Frequency_1</th>\n",
       "      <th>Frequency_2</th>\n",
       "      <th>Frequency_3</th>\n",
       "      <th>TimeSearching</th>\n",
       "      <th>TimeAnswering</th>\n",
       "      <th>ProfessionalTech</th>\n",
       "      <th>Industry</th>\n",
       "      <th>SurveyLength</th>\n",
       "      <th>SurveyEase</th>\n",
       "      <th>ConvertedCompYearly</th>\n",
       "    </tr>\n",
       "  </thead>\n",
       "  <tbody>\n",
       "    <tr>\n",
       "      <th>0</th>\n",
       "      <td>1</td>\n",
       "      <td>I agree</td>\n",
       "      <td>None of these</td>\n",
       "      <td>18-24 years old</td>\n",
       "      <td>NaN</td>\n",
       "      <td>NaN</td>\n",
       "      <td>NaN</td>\n",
       "      <td>NaN</td>\n",
       "      <td>NaN</td>\n",
       "      <td>NaN</td>\n",
       "      <td>...</td>\n",
       "      <td>NaN</td>\n",
       "      <td>NaN</td>\n",
       "      <td>NaN</td>\n",
       "      <td>NaN</td>\n",
       "      <td>NaN</td>\n",
       "      <td>NaN</td>\n",
       "      <td>NaN</td>\n",
       "      <td>NaN</td>\n",
       "      <td>NaN</td>\n",
       "      <td>NaN</td>\n",
       "    </tr>\n",
       "    <tr>\n",
       "      <th>1</th>\n",
       "      <td>2</td>\n",
       "      <td>I agree</td>\n",
       "      <td>I am a developer by profession</td>\n",
       "      <td>25-34 years old</td>\n",
       "      <td>Employed, full-time</td>\n",
       "      <td>Remote</td>\n",
       "      <td>Hobby;Contribute to open-source projects;Boots...</td>\n",
       "      <td>Bachelor’s degree (B.A., B.S., B.Eng., etc.)</td>\n",
       "      <td>Books / Physical media;Colleague;Friend or fam...</td>\n",
       "      <td>Formal documentation provided by the owner of ...</td>\n",
       "      <td>...</td>\n",
       "      <td>1-2 times a week</td>\n",
       "      <td>10+ times a week</td>\n",
       "      <td>Never</td>\n",
       "      <td>15-30 minutes a day</td>\n",
       "      <td>15-30 minutes a day</td>\n",
       "      <td>DevOps function;Microservices;Automated testin...</td>\n",
       "      <td>Information Services, IT, Software Development...</td>\n",
       "      <td>Appropriate in length</td>\n",
       "      <td>Easy</td>\n",
       "      <td>285000.0</td>\n",
       "    </tr>\n",
       "    <tr>\n",
       "      <th>2</th>\n",
       "      <td>3</td>\n",
       "      <td>I agree</td>\n",
       "      <td>I am a developer by profession</td>\n",
       "      <td>45-54 years old</td>\n",
       "      <td>Employed, full-time</td>\n",
       "      <td>Hybrid (some remote, some in-person)</td>\n",
       "      <td>Hobby;Professional development or self-paced l...</td>\n",
       "      <td>Bachelor’s degree (B.A., B.S., B.Eng., etc.)</td>\n",
       "      <td>Books / Physical media;Colleague;On the job tr...</td>\n",
       "      <td>Formal documentation provided by the owner of ...</td>\n",
       "      <td>...</td>\n",
       "      <td>6-10 times a week</td>\n",
       "      <td>6-10 times a week</td>\n",
       "      <td>3-5 times a week</td>\n",
       "      <td>30-60 minutes a day</td>\n",
       "      <td>30-60 minutes a day</td>\n",
       "      <td>DevOps function;Microservices;Automated testin...</td>\n",
       "      <td>Information Services, IT, Software Development...</td>\n",
       "      <td>Appropriate in length</td>\n",
       "      <td>Easy</td>\n",
       "      <td>250000.0</td>\n",
       "    </tr>\n",
       "    <tr>\n",
       "      <th>3</th>\n",
       "      <td>4</td>\n",
       "      <td>I agree</td>\n",
       "      <td>I am a developer by profession</td>\n",
       "      <td>25-34 years old</td>\n",
       "      <td>Employed, full-time</td>\n",
       "      <td>Hybrid (some remote, some in-person)</td>\n",
       "      <td>Hobby</td>\n",
       "      <td>Bachelor’s degree (B.A., B.S., B.Eng., etc.)</td>\n",
       "      <td>Colleague;Friend or family member;Other online...</td>\n",
       "      <td>Formal documentation provided by the owner of ...</td>\n",
       "      <td>...</td>\n",
       "      <td>1-2 times a week</td>\n",
       "      <td>10+ times a week</td>\n",
       "      <td>1-2 times a week</td>\n",
       "      <td>15-30 minutes a day</td>\n",
       "      <td>30-60 minutes a day</td>\n",
       "      <td>Automated testing;Continuous integration (CI) ...</td>\n",
       "      <td>NaN</td>\n",
       "      <td>Appropriate in length</td>\n",
       "      <td>Easy</td>\n",
       "      <td>156000.0</td>\n",
       "    </tr>\n",
       "    <tr>\n",
       "      <th>4</th>\n",
       "      <td>5</td>\n",
       "      <td>I agree</td>\n",
       "      <td>I am a developer by profession</td>\n",
       "      <td>25-34 years old</td>\n",
       "      <td>Employed, full-time;Independent contractor, fr...</td>\n",
       "      <td>Remote</td>\n",
       "      <td>Hobby;Contribute to open-source projects;Profe...</td>\n",
       "      <td>Bachelor’s degree (B.A., B.S., B.Eng., etc.)</td>\n",
       "      <td>Books / Physical media;Online Courses or Certi...</td>\n",
       "      <td>Formal documentation provided by the owner of ...</td>\n",
       "      <td>...</td>\n",
       "      <td>1-2 times a week</td>\n",
       "      <td>1-2 times a week</td>\n",
       "      <td>3-5 times a week</td>\n",
       "      <td>60-120 minutes a day</td>\n",
       "      <td>30-60 minutes a day</td>\n",
       "      <td>Microservices;Automated testing;Observability ...</td>\n",
       "      <td>Other</td>\n",
       "      <td>Appropriate in length</td>\n",
       "      <td>Neither easy nor difficult</td>\n",
       "      <td>23456.0</td>\n",
       "    </tr>\n",
       "  </tbody>\n",
       "</table>\n",
       "<p>5 rows × 84 columns</p>\n",
       "</div>"
      ],
      "text/plain": [
       "   ResponseId     Q120                      MainBranch              Age  \\\n",
       "0           1  I agree                   None of these  18-24 years old   \n",
       "1           2  I agree  I am a developer by profession  25-34 years old   \n",
       "2           3  I agree  I am a developer by profession  45-54 years old   \n",
       "3           4  I agree  I am a developer by profession  25-34 years old   \n",
       "4           5  I agree  I am a developer by profession  25-34 years old   \n",
       "\n",
       "                                          Employment  \\\n",
       "0                                                NaN   \n",
       "1                                Employed, full-time   \n",
       "2                                Employed, full-time   \n",
       "3                                Employed, full-time   \n",
       "4  Employed, full-time;Independent contractor, fr...   \n",
       "\n",
       "                             RemoteWork  \\\n",
       "0                                   NaN   \n",
       "1                                Remote   \n",
       "2  Hybrid (some remote, some in-person)   \n",
       "3  Hybrid (some remote, some in-person)   \n",
       "4                                Remote   \n",
       "\n",
       "                                    CodingActivities  \\\n",
       "0                                                NaN   \n",
       "1  Hobby;Contribute to open-source projects;Boots...   \n",
       "2  Hobby;Professional development or self-paced l...   \n",
       "3                                              Hobby   \n",
       "4  Hobby;Contribute to open-source projects;Profe...   \n",
       "\n",
       "                                        EdLevel  \\\n",
       "0                                           NaN   \n",
       "1  Bachelor’s degree (B.A., B.S., B.Eng., etc.)   \n",
       "2  Bachelor’s degree (B.A., B.S., B.Eng., etc.)   \n",
       "3  Bachelor’s degree (B.A., B.S., B.Eng., etc.)   \n",
       "4  Bachelor’s degree (B.A., B.S., B.Eng., etc.)   \n",
       "\n",
       "                                           LearnCode  \\\n",
       "0                                                NaN   \n",
       "1  Books / Physical media;Colleague;Friend or fam...   \n",
       "2  Books / Physical media;Colleague;On the job tr...   \n",
       "3  Colleague;Friend or family member;Other online...   \n",
       "4  Books / Physical media;Online Courses or Certi...   \n",
       "\n",
       "                                     LearnCodeOnline  ...        Frequency_1  \\\n",
       "0                                                NaN  ...                NaN   \n",
       "1  Formal documentation provided by the owner of ...  ...   1-2 times a week   \n",
       "2  Formal documentation provided by the owner of ...  ...  6-10 times a week   \n",
       "3  Formal documentation provided by the owner of ...  ...   1-2 times a week   \n",
       "4  Formal documentation provided by the owner of ...  ...   1-2 times a week   \n",
       "\n",
       "         Frequency_2       Frequency_3         TimeSearching  \\\n",
       "0                NaN               NaN                   NaN   \n",
       "1   10+ times a week             Never   15-30 minutes a day   \n",
       "2  6-10 times a week  3-5 times a week   30-60 minutes a day   \n",
       "3   10+ times a week  1-2 times a week   15-30 minutes a day   \n",
       "4   1-2 times a week  3-5 times a week  60-120 minutes a day   \n",
       "\n",
       "         TimeAnswering                                   ProfessionalTech  \\\n",
       "0                  NaN                                                NaN   \n",
       "1  15-30 minutes a day  DevOps function;Microservices;Automated testin...   \n",
       "2  30-60 minutes a day  DevOps function;Microservices;Automated testin...   \n",
       "3  30-60 minutes a day  Automated testing;Continuous integration (CI) ...   \n",
       "4  30-60 minutes a day  Microservices;Automated testing;Observability ...   \n",
       "\n",
       "                                            Industry           SurveyLength  \\\n",
       "0                                                NaN                    NaN   \n",
       "1  Information Services, IT, Software Development...  Appropriate in length   \n",
       "2  Information Services, IT, Software Development...  Appropriate in length   \n",
       "3                                                NaN  Appropriate in length   \n",
       "4                                              Other  Appropriate in length   \n",
       "\n",
       "                   SurveyEase ConvertedCompYearly  \n",
       "0                         NaN                 NaN  \n",
       "1                        Easy            285000.0  \n",
       "2                        Easy            250000.0  \n",
       "3                        Easy            156000.0  \n",
       "4  Neither easy nor difficult             23456.0  \n",
       "\n",
       "[5 rows x 84 columns]"
      ]
     },
     "execution_count": 3,
     "metadata": {},
     "output_type": "execute_result"
    }
   ],
   "source": [
    "df.head()"
   ]
  },
  {
   "cell_type": "code",
   "execution_count": 4,
   "id": "130ab2e4",
   "metadata": {},
   "outputs": [
    {
     "data": {
      "text/plain": [
       "ResponseId                 0\n",
       "Q120                       0\n",
       "MainBranch                 0\n",
       "Age                        0\n",
       "Employment              1286\n",
       "                       ...  \n",
       "ProfessionalTech       47401\n",
       "Industry               52410\n",
       "SurveyLength            2699\n",
       "SurveyEase              2630\n",
       "ConvertedCompYearly    41165\n",
       "Length: 84, dtype: int64"
      ]
     },
     "execution_count": 4,
     "metadata": {},
     "output_type": "execute_result"
    }
   ],
   "source": [
    "df.isnull().sum(axis=0)"
   ]
  },
  {
   "cell_type": "code",
   "execution_count": 5,
   "id": "c1ed5286",
   "metadata": {},
   "outputs": [
    {
     "data": {
      "text/plain": [
       "Index(['ResponseId', 'Q120', 'MainBranch', 'Age', 'Employment', 'RemoteWork',\n",
       "       'CodingActivities', 'EdLevel', 'LearnCode', 'LearnCodeOnline',\n",
       "       'LearnCodeCoursesCert', 'YearsCode', 'YearsCodePro', 'DevType',\n",
       "       'OrgSize', 'PurchaseInfluence', 'TechList', 'BuyNewTool', 'Country',\n",
       "       'Currency', 'CompTotal', 'LanguageHaveWorkedWith',\n",
       "       'LanguageWantToWorkWith', 'DatabaseHaveWorkedWith',\n",
       "       'DatabaseWantToWorkWith', 'PlatformHaveWorkedWith',\n",
       "       'PlatformWantToWorkWith', 'WebframeHaveWorkedWith',\n",
       "       'WebframeWantToWorkWith', 'MiscTechHaveWorkedWith',\n",
       "       'MiscTechWantToWorkWith', 'ToolsTechHaveWorkedWith',\n",
       "       'ToolsTechWantToWorkWith', 'NEWCollabToolsHaveWorkedWith',\n",
       "       'NEWCollabToolsWantToWorkWith', 'OpSysPersonal use',\n",
       "       'OpSysProfessional use', 'OfficeStackAsyncHaveWorkedWith',\n",
       "       'OfficeStackAsyncWantToWorkWith', 'OfficeStackSyncHaveWorkedWith',\n",
       "       'OfficeStackSyncWantToWorkWith', 'AISearchHaveWorkedWith',\n",
       "       'AISearchWantToWorkWith', 'AIDevHaveWorkedWith', 'AIDevWantToWorkWith',\n",
       "       'NEWSOSites', 'SOVisitFreq', 'SOAccount', 'SOPartFreq', 'SOComm',\n",
       "       'SOAI', 'AISelect', 'AISent', 'AIAcc', 'AIBen',\n",
       "       'AIToolInterested in Using', 'AIToolCurrently Using',\n",
       "       'AIToolNot interested in Using', 'AINextVery different',\n",
       "       'AINextNeither different nor similar', 'AINextSomewhat similar',\n",
       "       'AINextVery similar', 'AINextSomewhat different', 'TBranch', 'ICorPM',\n",
       "       'WorkExp', 'Knowledge_1', 'Knowledge_2', 'Knowledge_3', 'Knowledge_4',\n",
       "       'Knowledge_5', 'Knowledge_6', 'Knowledge_7', 'Knowledge_8',\n",
       "       'Frequency_1', 'Frequency_2', 'Frequency_3', 'TimeSearching',\n",
       "       'TimeAnswering', 'ProfessionalTech', 'Industry', 'SurveyLength',\n",
       "       'SurveyEase', 'ConvertedCompYearly'],\n",
       "      dtype='object')"
      ]
     },
     "execution_count": 5,
     "metadata": {},
     "output_type": "execute_result"
    }
   ],
   "source": [
    "df.columns"
   ]
  },
  {
   "cell_type": "code",
   "execution_count": 6,
   "id": "3c491913",
   "metadata": {},
   "outputs": [
    {
     "name": "stdout",
     "output_type": "stream",
     "text": [
      "<class 'pandas.core.frame.DataFrame'>\n",
      "RangeIndex: 89184 entries, 0 to 89183\n",
      "Data columns (total 84 columns):\n",
      " #   Column                               Non-Null Count  Dtype  \n",
      "---  ------                               --------------  -----  \n",
      " 0   ResponseId                           89184 non-null  int64  \n",
      " 1   Q120                                 89184 non-null  object \n",
      " 2   MainBranch                           89184 non-null  object \n",
      " 3   Age                                  89184 non-null  object \n",
      " 4   Employment                           87898 non-null  object \n",
      " 5   RemoteWork                           73810 non-null  object \n",
      " 6   CodingActivities                     73764 non-null  object \n",
      " 7   EdLevel                              87973 non-null  object \n",
      " 8   LearnCode                            87663 non-null  object \n",
      " 9   LearnCodeOnline                      70084 non-null  object \n",
      " 10  LearnCodeCoursesCert                 37076 non-null  object \n",
      " 11  YearsCode                            87435 non-null  object \n",
      " 12  YearsCodePro                         66136 non-null  object \n",
      " 13  DevType                              76872 non-null  object \n",
      " 14  OrgSize                              65043 non-null  object \n",
      " 15  PurchaseInfluence                    64964 non-null  object \n",
      " 16  TechList                             60851 non-null  object \n",
      " 17  BuyNewTool                           83009 non-null  object \n",
      " 18  Country                              87973 non-null  object \n",
      " 19  Currency                             65334 non-null  object \n",
      " 20  CompTotal                            48225 non-null  float64\n",
      " 21  LanguageHaveWorkedWith               87140 non-null  object \n",
      " 22  LanguageWantToWorkWith               80709 non-null  object \n",
      " 23  DatabaseHaveWorkedWith               73435 non-null  object \n",
      " 24  DatabaseWantToWorkWith               60911 non-null  object \n",
      " 25  PlatformHaveWorkedWith               63628 non-null  object \n",
      " 26  PlatformWantToWorkWith               51308 non-null  object \n",
      " 27  WebframeHaveWorkedWith               66938 non-null  object \n",
      " 28  WebframeWantToWorkWith               56741 non-null  object \n",
      " 29  MiscTechHaveWorkedWith               57019 non-null  object \n",
      " 30  MiscTechWantToWorkWith               46848 non-null  object \n",
      " 31  ToolsTechHaveWorkedWith              77884 non-null  object \n",
      " 32  ToolsTechWantToWorkWith              68315 non-null  object \n",
      " 33  NEWCollabToolsHaveWorkedWith         85864 non-null  object \n",
      " 34  NEWCollabToolsWantToWorkWith         76649 non-null  object \n",
      " 35  OpSysPersonal use                    86557 non-null  object \n",
      " 36  OpSysProfessional use                78587 non-null  object \n",
      " 37  OfficeStackAsyncHaveWorkedWith       69090 non-null  object \n",
      " 38  OfficeStackAsyncWantToWorkWith       53743 non-null  object \n",
      " 39  OfficeStackSyncHaveWorkedWith        83439 non-null  object \n",
      " 40  OfficeStackSyncWantToWorkWith        69776 non-null  object \n",
      " 41  AISearchHaveWorkedWith               56328 non-null  object \n",
      " 42  AISearchWantToWorkWith               46150 non-null  object \n",
      " 43  AIDevHaveWorkedWith                  25904 non-null  object \n",
      " 44  AIDevWantToWorkWith                  19587 non-null  object \n",
      " 45  NEWSOSites                           87973 non-null  object \n",
      " 46  SOVisitFreq                          87140 non-null  object \n",
      " 47  SOAccount                            87852 non-null  object \n",
      " 48  SOPartFreq                           66061 non-null  object \n",
      " 49  SOComm                               87692 non-null  object \n",
      " 50  SOAI                                 47858 non-null  object \n",
      " 51  AISelect                             87973 non-null  object \n",
      " 52  AISent                               61501 non-null  object \n",
      " 53  AIAcc                                38594 non-null  object \n",
      " 54  AIBen                                61396 non-null  object \n",
      " 55  AIToolInterested in Using            32783 non-null  object \n",
      " 56  AIToolCurrently Using                36137 non-null  object \n",
      " 57  AIToolNot interested in Using        21069 non-null  object \n",
      " 58  AINextVery different                 12661 non-null  object \n",
      " 59  AINextNeither different nor similar  6599 non-null   object \n",
      " 60  AINextSomewhat similar               6238 non-null   object \n",
      " 61  AINextVery similar                   2621 non-null   object \n",
      " 62  AINextSomewhat different             23303 non-null  object \n",
      " 63  TBranch                              65768 non-null  object \n",
      " 64  ICorPM                               43668 non-null  object \n",
      " 65  WorkExp                              43579 non-null  float64\n",
      " 66  Knowledge_1                          42535 non-null  object \n",
      " 67  Knowledge_2                          41670 non-null  object \n",
      " 68  Knowledge_3                          41798 non-null  object \n",
      " 69  Knowledge_4                          41684 non-null  object \n",
      " 70  Knowledge_5                          41527 non-null  object \n",
      " 71  Knowledge_6                          41520 non-null  object \n",
      " 72  Knowledge_7                          41467 non-null  object \n",
      " 73  Knowledge_8                          41404 non-null  object \n",
      " 74  Frequency_1                          41916 non-null  object \n",
      " 75  Frequency_2                          41925 non-null  object \n",
      " 76  Frequency_3                          41054 non-null  object \n",
      " 77  TimeSearching                        42778 non-null  object \n",
      " 78  TimeAnswering                        42629 non-null  object \n",
      " 79  ProfessionalTech                     41783 non-null  object \n",
      " 80  Industry                             36774 non-null  object \n",
      " 81  SurveyLength                         86485 non-null  object \n",
      " 82  SurveyEase                           86554 non-null  object \n",
      " 83  ConvertedCompYearly                  48019 non-null  float64\n",
      "dtypes: float64(3), int64(1), object(80)\n",
      "memory usage: 57.2+ MB\n"
     ]
    }
   ],
   "source": [
    "df.info()"
   ]
  },
  {
   "cell_type": "markdown",
   "id": "ed9eb0f2",
   "metadata": {},
   "source": [
    "# 1. How many respondents completed the survey?"
   ]
  },
  {
   "cell_type": "code",
   "execution_count": 7,
   "id": "c3ad26a1",
   "metadata": {},
   "outputs": [
    {
     "data": {
      "text/plain": [
       "(89184, 84)"
      ]
     },
     "execution_count": 7,
     "metadata": {},
     "output_type": "execute_result"
    }
   ],
   "source": [
    "df.shape"
   ]
  },
  {
   "cell_type": "markdown",
   "id": "a2103248",
   "metadata": {},
   "source": [
    "# 2. How many respondents answered all questions?"
   ]
  },
  {
   "cell_type": "markdown",
   "id": "476f02c5",
   "metadata": {},
   "source": [
    "To determine how many respondents answered all questions, we can check the number of non-null values for each column. If a respondent answered all questions, there should be no missing/null values for that respondent across all columns.\n",
    "\n",
    "We can sum up the non-null counts for each column, and if that sum equals the total number of rows (89,184) multiplied by the number of columns (84), then all respondents answered all questions.\n",
    "\n",
    "Here's how we can check that:"
   ]
  },
  {
   "cell_type": "code",
   "execution_count": 8,
   "id": "77cf46e1",
   "metadata": {},
   "outputs": [
    {
     "name": "stdout",
     "output_type": "stream",
     "text": [
      "Not all respondents answered all questions. Total non-null values: 4975384, Total cells: 7491456\n"
     ]
    }
   ],
   "source": [
    "total_non_null = df.notnull().sum().sum()\n",
    "total_cells = df.shape[0] * df.shape[1]\n",
    "\n",
    "if total_non_null == total_cells:\n",
    "    print(\"All respondents answered all questions\")\n",
    "else:\n",
    "    print(f\"Not all respondents answered all questions. Total non-null values: {total_non_null}, Total cells: {total_cells}\")"
   ]
  },
  {
   "cell_type": "markdown",
   "id": "d6c4c47f",
   "metadata": {},
   "source": [
    "This means that no single respondent answered all questions, since the total number of non-null values (4975384) is less than the total number of cells (89184 respondents * 84 columns = 7491456 cells).\n",
    "\n",
    "If all respondents had answered all questions, the total non-null values would be equal to the total number of cells.\n",
    "\n",
    "Therefore, the answer is that zero (0) respondents answered all questions in this survey."
   ]
  },
  {
   "cell_type": "markdown",
   "id": "6d554cbb",
   "metadata": {},
   "source": [
    "# 3. What are the values of measures of central tendency for respondents' experience?"
   ]
  },
  {
   "cell_type": "markdown",
   "id": "efb4d611",
   "metadata": {},
   "source": [
    "To calculate the measures of central tendency (mean, median, mode) for respondents' experience, we need to look at the 'WorkExp' column in the data.\n",
    "\n",
    "First, let's check for any null/missing values in that column:"
   ]
  },
  {
   "cell_type": "code",
   "execution_count": 9,
   "id": "a31b00fa",
   "metadata": {},
   "outputs": [
    {
     "data": {
      "text/plain": [
       "45605"
      ]
     },
     "execution_count": 9,
     "metadata": {},
     "output_type": "execute_result"
    }
   ],
   "source": [
    "df['WorkExp'].isnull().sum()"
   ]
  },
  {
   "cell_type": "markdown",
   "id": "1bf690bf",
   "metadata": {},
   "source": [
    "This gives an output of 45605, meaning there are 45605 null/missing values in the 'WorkExp' column out of the 89184 total respondents.\n",
    "\n",
    "Next, we'll drop those null values and calculate the mean, median and mode on the remaining non-null values:"
   ]
  },
  {
   "cell_type": "code",
   "execution_count": 10,
   "id": "f45e8d2a",
   "metadata": {},
   "outputs": [
    {
     "name": "stdout",
     "output_type": "stream",
     "text": [
      "Mean experience: 11.41 years\n",
      "Median experience: 9.00 years\n",
      "Mode experience: 5.00 years\n"
     ]
    }
   ],
   "source": [
    "work_exp = df['WorkExp'].dropna()\n",
    "\n",
    "mean_exp = work_exp.mean()\n",
    "median_exp = work_exp.median()\n",
    "mode_exp = work_exp.mode()[0]\n",
    "\n",
    "print(f\"Mean experience: {mean_exp:.2f} years\")\n",
    "print(f\"Median experience: {median_exp:.2f} years\") \n",
    "print(f\"Mode experience: {mode_exp:.2f} years\")"
   ]
  },
  {
   "cell_type": "markdown",
   "id": "9182bafb",
   "metadata": {},
   "source": [
    "# 4. How many respondents work remotely?"
   ]
  },
  {
   "cell_type": "markdown",
   "id": "a933fe21",
   "metadata": {},
   "source": [
    "To find out how many respondents work remotely, we need to examine the 'RemoteWork' column in the DataFrame.\n",
    "\n",
    "First, let's check for any null/missing values in that column:"
   ]
  },
  {
   "cell_type": "code",
   "execution_count": 11,
   "id": "620b7bc2",
   "metadata": {},
   "outputs": [
    {
     "data": {
      "text/plain": [
       "15374"
      ]
     },
     "execution_count": 11,
     "metadata": {},
     "output_type": "execute_result"
    }
   ],
   "source": [
    "df['RemoteWork'].isnull().sum()"
   ]
  },
  {
   "cell_type": "markdown",
   "id": "b6f22bc4",
   "metadata": {},
   "source": [
    "This gives an output of 15374, meaning there are 15374 null/missing values in the 'RemoteWork' column.\n",
    "\n",
    "Next, we can count the number of respondents who selected 'Remote' as their work mode:"
   ]
  },
  {
   "cell_type": "code",
   "execution_count": 12,
   "id": "a5d635f6",
   "metadata": {},
   "outputs": [
    {
     "name": "stdout",
     "output_type": "stream",
     "text": [
      "Number of respondents working remotely: 30566\n"
     ]
    }
   ],
   "source": [
    "remote_count = df['RemoteWork'].value_counts()['Remote']\n",
    "print(f\"Number of respondents working remotely: {remote_count}\")"
   ]
  },
  {
   "cell_type": "markdown",
   "id": "0944d30c",
   "metadata": {},
   "source": [
    "# 5. What percentage of respondents program in Python?"
   ]
  },
  {
   "cell_type": "markdown",
   "id": "49e76079",
   "metadata": {},
   "source": [
    "To find the percentage of respondents who program in Python, we need to look at the 'LanguageHaveWorkedWith' column in the DataFrame. This column contains the programming languages that respondents have worked with, with multiple languages separated by semicolons.\n",
    "\n",
    "Here are the steps:\n",
    "\n",
    "Check for null values in 'LanguageHaveWorkedWith'"
   ]
  },
  {
   "cell_type": "code",
   "execution_count": 13,
   "id": "49626978",
   "metadata": {},
   "outputs": [
    {
     "data": {
      "text/plain": [
       "2044"
      ]
     },
     "execution_count": 13,
     "metadata": {},
     "output_type": "execute_result"
    }
   ],
   "source": [
    "df['LanguageHaveWorkedWith'].isnull().sum()"
   ]
  },
  {
   "cell_type": "markdown",
   "id": "38bbd031",
   "metadata": {},
   "source": [
    "This shows there are 2044 null values.\n",
    "\n",
    "Convert the column to a list of lists, splitting by semicolon"
   ]
  },
  {
   "cell_type": "code",
   "execution_count": 14,
   "id": "265183a3",
   "metadata": {},
   "outputs": [],
   "source": [
    "# Split languages by semicolon and check if 'Python' is in the list\n",
    "python_programmers = df['LanguageHaveWorkedWith'].dropna().apply(lambda x: 'Python' in x.split(';'))\n",
    "\n",
    "# Count True values \n",
    "python_programmers = np.sum(python_programmers)"
   ]
  },
  {
   "cell_type": "code",
   "execution_count": 15,
   "id": "4143a6f7",
   "metadata": {},
   "outputs": [
    {
     "name": "stdout",
     "output_type": "stream",
     "text": [
      "49.53% of respondents program in Python\n"
     ]
    }
   ],
   "source": [
    "# Calculate percentage\n",
    "total_respondents = df.shape[0] - df['LanguageHaveWorkedWith'].isnull().sum()\n",
    "python_percentage = (python_programmers / total_respondents) * 100\n",
    "\n",
    "print(f\"{python_percentage:.2f}% of respondents program in Python\")"
   ]
  },
  {
   "cell_type": "markdown",
   "id": "8911733d",
   "metadata": {},
   "source": [
    "# 6. How many respondents learned to program using online courses?"
   ]
  },
  {
   "cell_type": "markdown",
   "id": "c16b2be6",
   "metadata": {},
   "source": [
    "To find out how many respondents learned to program using online courses, we need to look at the 'LearnCodeOnline' column in the DataFrame."
   ]
  },
  {
   "cell_type": "code",
   "execution_count": 16,
   "id": "3baaef59",
   "metadata": {},
   "outputs": [
    {
     "data": {
      "text/plain": [
       "19100"
      ]
     },
     "execution_count": 16,
     "metadata": {},
     "output_type": "execute_result"
    }
   ],
   "source": [
    "#Check for null values in the 'LearnCodeOnline' column:\n",
    "df['LearnCodeOnline'].isnull().sum()"
   ]
  },
  {
   "cell_type": "code",
   "execution_count": 17,
   "id": "76f894a8",
   "metadata": {},
   "outputs": [],
   "source": [
    "#Filter the DataFrame to include only rows where 'LearnCodeOnline' is not null:\n",
    "online_learners = df[df['LearnCodeOnline'].notnull()]"
   ]
  },
  {
   "cell_type": "code",
   "execution_count": 18,
   "id": "2c99e8de",
   "metadata": {},
   "outputs": [
    {
     "data": {
      "text/plain": [
       "array(['Formal documentation provided by the owner of the tech;Blogs with tips and tricks;Books;Recorded coding sessions;How-to videos;Video-based Online Courses;Written-based Online Courses;Auditory material (e.g., podcasts);Online challenges (e.g., daily or weekly coding challenges);Written Tutorials;Click to write Choice 20;Stack Overflow',\n",
       "       'Formal documentation provided by the owner of the tech;Blogs with tips and tricks;How-to videos;Online challenges (e.g., daily or weekly coding challenges);Written Tutorials;Click to write Choice 20;Stack Overflow',\n",
       "       'Formal documentation provided by the owner of the tech;Blogs with tips and tricks;Auditory material (e.g., podcasts);Written Tutorials;Stack Overflow;Interactive tutorial',\n",
       "       ...,\n",
       "       'Formal documentation provided by the owner of the tech;Blogs with tips and tricks;Recorded coding sessions;How-to videos;Video-based Online Courses;Written-based Online Courses;Stack Overflow;Certification videos;Other (Please specify):',\n",
       "       'Formal documentation provided by the owner of the tech;Blogs with tips and tricks;Books;Recorded coding sessions;How-to videos;Written-based Online Courses;Written Tutorials;Click to write Choice 20;Stack Overflow;Interactive tutorial;Other (Please specify):',\n",
       "       'Formal documentation provided by the owner of the tech;Blogs with tips and tricks;Recorded coding sessions;Video-based Online Courses;Auditory material (e.g., podcasts);Online challenges (e.g., daily or weekly coding challenges);Written Tutorials;Click to write Choice 20;Stack Overflow;Interactive tutorial'],\n",
       "      dtype=object)"
      ]
     },
     "execution_count": 18,
     "metadata": {},
     "output_type": "execute_result"
    }
   ],
   "source": [
    "#Check the unique values in the 'LearnCodeOnline' column for online_learners:\n",
    "online_learners['LearnCodeOnline'].unique()"
   ]
  },
  {
   "cell_type": "code",
   "execution_count": 19,
   "id": "ca7ea2c5",
   "metadata": {},
   "outputs": [
    {
     "name": "stdout",
     "output_type": "stream",
     "text": [
      "59938 respondents learned to program using online courses\n"
     ]
    }
   ],
   "source": [
    "# Check for 'Video-based Online Courses'\n",
    "video_course_learners = online_learners[online_learners['LearnCodeOnline'].str.contains('Video-based Online Courses', na=False)].shape[0]\n",
    "\n",
    "# Check for 'Written-based Online Courses' \n",
    "written_course_learners = online_learners[online_learners['LearnCodeOnline'].str.contains('Written-based Online Courses', na=False)].shape[0]\n",
    "\n",
    "# Sum the two counts\n",
    "online_course_learners = video_course_learners + written_course_learners\n",
    "\n",
    "print(f\"{online_course_learners} respondents learned to program using online courses\")"
   ]
  },
  {
   "cell_type": "markdown",
   "id": "c31068a0",
   "metadata": {},
   "source": [
    "# 7. Among respondents who program in Python, grouped by country, what is the average and median amount of compensation in each country?"
   ]
  },
  {
   "cell_type": "markdown",
   "id": "2ec51d51",
   "metadata": {},
   "source": [
    "Filter the DataFrame to include only rows where 'Python' is present in the 'LanguageHaveWorkedWith' column:"
   ]
  },
  {
   "cell_type": "code",
   "execution_count": 20,
   "id": "1bc7a4ff",
   "metadata": {},
   "outputs": [],
   "source": [
    "python_programmers = df[df['LanguageHaveWorkedWith'].str.contains('Python', na=False)]"
   ]
  },
  {
   "cell_type": "markdown",
   "id": "b18179d7",
   "metadata": {},
   "source": [
    "Drop any rows with null values in the 'Country' and 'ConvertedCompYearly' columns:"
   ]
  },
  {
   "cell_type": "code",
   "execution_count": 21,
   "id": "c5e03aca",
   "metadata": {},
   "outputs": [],
   "source": [
    "python_programmers = python_programmers[python_programmers['Country'].notnull() & \n",
    "                                        python_programmers['ConvertedCompYearly'].notnull()]"
   ]
  },
  {
   "cell_type": "markdown",
   "id": "12f3fc54",
   "metadata": {},
   "source": [
    "Group the data by 'Country' and calculate the mean and median 'ConvertedCompYearly' for each group:"
   ]
  },
  {
   "cell_type": "code",
   "execution_count": 22,
   "id": "4b3c7cf6",
   "metadata": {},
   "outputs": [
    {
     "name": "stdout",
     "output_type": "stream",
     "text": [
      "                                              mean   median\n",
      "Country                                                    \n",
      "Afghanistan                             665.000000     48.0\n",
      "Albania                               28008.600000  11844.0\n",
      "Algeria                                8336.333333   6586.0\n",
      "Andorra                               32127.000000  32127.0\n",
      "Angola                                  662.000000    662.0\n",
      "...                                            ...      ...\n",
      "Venezuela, Bolivarian Republic of...  24973.529412  12000.0\n",
      "Viet Nam                              20191.870370  13401.0\n",
      "Yemen                                  8373.000000   9000.0\n",
      "Zambia                                13051.000000   9687.0\n",
      "Zimbabwe                               5600.000000   6000.0\n",
      "\n",
      "[158 rows x 2 columns]\n"
     ]
    }
   ],
   "source": [
    "country_stats = python_programmers.groupby('Country')['ConvertedCompYearly'].agg(['mean', 'median'])\n",
    "print(country_stats)"
   ]
  },
  {
   "cell_type": "code",
   "execution_count": 23,
   "id": "e1506496",
   "metadata": {},
   "outputs": [
    {
     "data": {
      "text/html": [
       "<div>\n",
       "<style scoped>\n",
       "    .dataframe tbody tr th:only-of-type {\n",
       "        vertical-align: middle;\n",
       "    }\n",
       "\n",
       "    .dataframe tbody tr th {\n",
       "        vertical-align: top;\n",
       "    }\n",
       "\n",
       "    .dataframe thead th {\n",
       "        text-align: right;\n",
       "    }\n",
       "</style>\n",
       "<table border=\"1\" class=\"dataframe\">\n",
       "  <thead>\n",
       "    <tr style=\"text-align: right;\">\n",
       "      <th></th>\n",
       "      <th>mean</th>\n",
       "      <th>median</th>\n",
       "    </tr>\n",
       "    <tr>\n",
       "      <th>Country</th>\n",
       "      <th></th>\n",
       "      <th></th>\n",
       "    </tr>\n",
       "  </thead>\n",
       "  <tbody>\n",
       "    <tr>\n",
       "      <th>South Africa</th>\n",
       "      <td>530231.710526</td>\n",
       "      <td>40719.0</td>\n",
       "    </tr>\n",
       "    <tr>\n",
       "      <th>United States of America</th>\n",
       "      <td>179229.025050</td>\n",
       "      <td>150000.0</td>\n",
       "    </tr>\n",
       "    <tr>\n",
       "      <th>Canada</th>\n",
       "      <td>178611.953280</td>\n",
       "      <td>89593.5</td>\n",
       "    </tr>\n",
       "    <tr>\n",
       "      <th>Switzerland</th>\n",
       "      <td>133818.783951</td>\n",
       "      <td>121238.0</td>\n",
       "    </tr>\n",
       "    <tr>\n",
       "      <th>Dominica</th>\n",
       "      <td>132857.000000</td>\n",
       "      <td>132857.0</td>\n",
       "    </tr>\n",
       "    <tr>\n",
       "      <th>...</th>\n",
       "      <td>...</td>\n",
       "      <td>...</td>\n",
       "    </tr>\n",
       "    <tr>\n",
       "      <th>Afghanistan</th>\n",
       "      <td>665.000000</td>\n",
       "      <td>48.0</td>\n",
       "    </tr>\n",
       "    <tr>\n",
       "      <th>Angola</th>\n",
       "      <td>662.000000</td>\n",
       "      <td>662.0</td>\n",
       "    </tr>\n",
       "    <tr>\n",
       "      <th>Brunei Darussalam</th>\n",
       "      <td>592.000000</td>\n",
       "      <td>592.0</td>\n",
       "    </tr>\n",
       "    <tr>\n",
       "      <th>Sierra Leone</th>\n",
       "      <td>283.000000</td>\n",
       "      <td>283.0</td>\n",
       "    </tr>\n",
       "    <tr>\n",
       "      <th>Lesotho</th>\n",
       "      <td>13.000000</td>\n",
       "      <td>13.0</td>\n",
       "    </tr>\n",
       "  </tbody>\n",
       "</table>\n",
       "<p>158 rows × 2 columns</p>\n",
       "</div>"
      ],
      "text/plain": [
       "                                   mean    median\n",
       "Country                                          \n",
       "South Africa              530231.710526   40719.0\n",
       "United States of America  179229.025050  150000.0\n",
       "Canada                    178611.953280   89593.5\n",
       "Switzerland               133818.783951  121238.0\n",
       "Dominica                  132857.000000  132857.0\n",
       "...                                 ...       ...\n",
       "Afghanistan                  665.000000      48.0\n",
       "Angola                       662.000000     662.0\n",
       "Brunei Darussalam            592.000000     592.0\n",
       "Sierra Leone                 283.000000     283.0\n",
       "Lesotho                       13.000000      13.0\n",
       "\n",
       "[158 rows x 2 columns]"
      ]
     },
     "execution_count": 23,
     "metadata": {},
     "output_type": "execute_result"
    }
   ],
   "source": [
    "country_stats.sort_values('mean', ascending=False)"
   ]
  },
  {
   "cell_type": "markdown",
   "id": "418211a8",
   "metadata": {},
   "source": [
    "# 8. What levels of education do the 5 respondents with the highest compensation have?"
   ]
  },
  {
   "cell_type": "markdown",
   "id": "e8a9eea3",
   "metadata": {},
   "source": [
    "Drop any rows with null values in the 'ConvertedCompYearly' and 'EdLevel' columns:"
   ]
  },
  {
   "cell_type": "code",
   "execution_count": 24,
   "id": "27e6dd79",
   "metadata": {},
   "outputs": [],
   "source": [
    "data = df[df['ConvertedCompYearly'].notnull() & df['EdLevel'].notnull()]"
   ]
  },
  {
   "cell_type": "markdown",
   "id": "c82ecb53",
   "metadata": {},
   "source": [
    "Sort the data by 'ConvertedCompYearly' in descending order to get the highest compensated respondents first:"
   ]
  },
  {
   "cell_type": "code",
   "execution_count": 25,
   "id": "2447713b",
   "metadata": {},
   "outputs": [],
   "source": [
    "data = data.sort_values('ConvertedCompYearly', ascending=False)"
   ]
  },
  {
   "cell_type": "markdown",
   "id": "3373b969",
   "metadata": {},
   "source": [
    "Select the top 5 rows and display their 'EdLevel' values:"
   ]
  },
  {
   "cell_type": "code",
   "execution_count": 26,
   "id": "c419cdea",
   "metadata": {},
   "outputs": [
    {
     "name": "stdout",
     "output_type": "stream",
     "text": [
      "53268    Professional degree (JD, MD, Ph.D, Ed.D, etc.)\n",
      "77848    Professional degree (JD, MD, Ph.D, Ed.D, etc.)\n",
      "66223      Bachelor’s degree (B.A., B.S., B.Eng., etc.)\n",
      "28121                         Primary/elementary school\n",
      "19679    Professional degree (JD, MD, Ph.D, Ed.D, etc.)\n",
      "Name: EdLevel, dtype: object\n"
     ]
    }
   ],
   "source": [
    "top_5_edu_levels = data['EdLevel'].head(5)\n",
    "print(top_5_edu_levels)"
   ]
  },
  {
   "cell_type": "markdown",
   "id": "421752b7",
   "metadata": {},
   "source": [
    "# 9. In each age category, what percentage of respondents program in Python?"
   ]
  },
  {
   "cell_type": "markdown",
   "id": "f45bf3e0",
   "metadata": {},
   "source": [
    "Check for null values in the 'LanguageHaveWorkedWith' and 'Age' columns:"
   ]
  },
  {
   "cell_type": "code",
   "execution_count": 27,
   "id": "ab527e69",
   "metadata": {},
   "outputs": [
    {
     "name": "stdout",
     "output_type": "stream",
     "text": [
      "Null values in 'LanguageHaveWorkedWith': 2044\n",
      "Null values in 'Age': 0\n"
     ]
    }
   ],
   "source": [
    "print(f\"Null values in 'LanguageHaveWorkedWith': {df['LanguageHaveWorkedWith'].isnull().sum()}\")\n",
    "print(f\"Null values in 'Age': {df['Age'].isnull().sum()}\")"
   ]
  },
  {
   "cell_type": "markdown",
   "id": "d15599b0",
   "metadata": {},
   "source": [
    "Drop any rows with null values in these two columns:"
   ]
  },
  {
   "cell_type": "code",
   "execution_count": 28,
   "id": "cedee592",
   "metadata": {},
   "outputs": [],
   "source": [
    "data = df.dropna(subset=['LanguageHaveWorkedWith', 'Age'])"
   ]
  },
  {
   "cell_type": "markdown",
   "id": "54da878b",
   "metadata": {},
   "source": [
    "Create a boolean mask for Python programmers:"
   ]
  },
  {
   "cell_type": "code",
   "execution_count": 29,
   "id": "4d7a2f84",
   "metadata": {},
   "outputs": [],
   "source": [
    "python_programmers = data['LanguageHaveWorkedWith'].str.contains('Python', na=False)"
   ]
  },
  {
   "cell_type": "markdown",
   "id": "1280700c",
   "metadata": {},
   "source": [
    "Group the data by 'Age' and calculate the percentage of Python programmers in each age group:"
   ]
  },
  {
   "cell_type": "code",
   "execution_count": 30,
   "id": "54a3441a",
   "metadata": {},
   "outputs": [
    {
     "name": "stdout",
     "output_type": "stream",
     "text": [
      "Age\n",
      "18-24 years old       63.054187\n",
      "25-34 years old       48.361257\n",
      "35-44 years old       42.230384\n",
      "45-54 years old       39.363793\n",
      "55-64 years old       37.697929\n",
      "65 years or older     32.879201\n",
      "Prefer not to say     57.632399\n",
      "Under 18 years old    71.234599\n",
      "Name: LanguageHaveWorkedWith, dtype: float64\n"
     ]
    }
   ],
   "source": [
    "python_percentage = data.groupby('Age')['LanguageHaveWorkedWith'].apply(lambda x: (x[python_programmers].count() / x.count()) * 100)\n",
    "print(python_percentage)"
   ]
  },
  {
   "cell_type": "markdown",
   "id": "c349471f",
   "metadata": {},
   "source": [
    "This shows that, for example, 63.05% of respondents in the '18-24 years old' age group program in Python."
   ]
  },
  {
   "cell_type": "markdown",
   "id": "eb139a3b",
   "metadata": {},
   "source": [
    "# 10. Among respondents who are in the 75th percentile for average compensation and work remotely, which industries are the most common?"
   ]
  },
  {
   "cell_type": "markdown",
   "id": "886743b6",
   "metadata": {},
   "source": [
    "Drop any rows with null values in the 'RemoteWork', 'ConvertedCompYearly', and 'Industry' columns:"
   ]
  },
  {
   "cell_type": "code",
   "execution_count": 31,
   "id": "2f659748",
   "metadata": {},
   "outputs": [],
   "source": [
    "data = df.dropna(subset=['RemoteWork', 'ConvertedCompYearly', 'Industry'])"
   ]
  },
  {
   "cell_type": "markdown",
   "id": "b20cd3a0",
   "metadata": {},
   "source": [
    "Filter the data to include only respondents who work remotely:"
   ]
  },
  {
   "cell_type": "code",
   "execution_count": 32,
   "id": "287a4379",
   "metadata": {},
   "outputs": [],
   "source": [
    "remote_workers = data[data['RemoteWork'] == 'Remote']"
   ]
  },
  {
   "cell_type": "markdown",
   "id": "a8a979ba",
   "metadata": {},
   "source": [
    "Calculate the 75th percentile of compensation for remote workers:"
   ]
  },
  {
   "cell_type": "code",
   "execution_count": 33,
   "id": "1b07b734",
   "metadata": {},
   "outputs": [],
   "source": [
    "compensation_75th_percentile = remote_workers['ConvertedCompYearly'].quantile(0.75)"
   ]
  },
  {
   "cell_type": "markdown",
   "id": "6e600c8e",
   "metadata": {},
   "source": [
    "Filter the data to include only respondents above the 75th percentile of compensation:"
   ]
  },
  {
   "cell_type": "code",
   "execution_count": 34,
   "id": "925c5209",
   "metadata": {},
   "outputs": [],
   "source": [
    "high_earners = remote_workers[remote_workers['ConvertedCompYearly'] >= compensation_75th_percentile]"
   ]
  },
  {
   "cell_type": "markdown",
   "id": "1e0566a9",
   "metadata": {},
   "source": [
    "Count the occurrences of each industry for the high-earning remote workers:"
   ]
  },
  {
   "cell_type": "code",
   "execution_count": 35,
   "id": "e91f6a67",
   "metadata": {},
   "outputs": [],
   "source": [
    "industry_counts = high_earners['Industry'].value_counts()"
   ]
  },
  {
   "cell_type": "markdown",
   "id": "7fe4da0a",
   "metadata": {},
   "source": [
    "Sort the counts in descending order to find the most common industries:"
   ]
  },
  {
   "cell_type": "code",
   "execution_count": 36,
   "id": "1ec6f107",
   "metadata": {},
   "outputs": [
    {
     "name": "stdout",
     "output_type": "stream",
     "text": [
      "Industry\n",
      "Information Services, IT, Software Development, or other Technology    1425\n",
      "Financial Services                                                      424\n",
      "Other                                                                   345\n",
      "Healthcare                                                              278\n",
      "Retail and Consumer Services                                            184\n",
      "Manufacturing, Transportation, or Supply Chain                          120\n",
      "Advertising Services                                                     92\n",
      "Insurance                                                                69\n",
      "Higher Education                                                         47\n",
      "Oil & Gas                                                                14\n",
      "Legal Services                                                           14\n",
      "Wholesale                                                                 6\n",
      "Name: count, dtype: int64\n"
     ]
    }
   ],
   "source": [
    "most_common_industries = industry_counts.sort_values(ascending=False)\n",
    "print(most_common_industries)"
   ]
  },
  {
   "cell_type": "code",
   "execution_count": null,
   "id": "987d6534",
   "metadata": {},
   "outputs": [],
   "source": []
  }
 ],
 "metadata": {
  "kernelspec": {
   "display_name": "Python 3 (ipykernel)",
   "language": "python",
   "name": "python3"
  },
  "language_info": {
   "codemirror_mode": {
    "name": "ipython",
    "version": 3
   },
   "file_extension": ".py",
   "mimetype": "text/x-python",
   "name": "python",
   "nbconvert_exporter": "python",
   "pygments_lexer": "ipython3",
   "version": "3.11.5"
  }
 },
 "nbformat": 4,
 "nbformat_minor": 5
}
